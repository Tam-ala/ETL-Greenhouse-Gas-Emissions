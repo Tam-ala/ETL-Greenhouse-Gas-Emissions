{
 "cells": [
  {
   "cell_type": "code",
   "execution_count": 1,
   "metadata": {},
   "outputs": [],
   "source": [
    "# import dependencies\n",
    "import pandas as pd"
   ]
  },
  {
   "cell_type": "code",
   "execution_count": null,
   "metadata": {},
   "outputs": [],
   "source": [
    "# read in all csvs\n",
    "d1 = \"../resources/10308_fuel_use_veh_type_3-25-20.csv\"\n",
    "d2 = \"../resources/epa_transport_data.csv\"\n",
    "d3 = \"../resources/table_01_11_053019.csv\"\n",
    "d4 = \"../resources/10308_fuel_use_veh_type_3-25-20.csv\""
   ]
  }
 ],
 "metadata": {
  "kernelspec": {
   "display_name": "Python 3",
   "language": "python",
   "name": "python3"
  },
  "language_info": {
   "codemirror_mode": {
    "name": "ipython",
    "version": 3
   },
   "file_extension": ".py",
   "mimetype": "text/x-python",
   "name": "python",
   "nbconvert_exporter": "python",
   "pygments_lexer": "ipython3",
   "version": "3.6.10"
  }
 },
 "nbformat": 4,
 "nbformat_minor": 4
}
